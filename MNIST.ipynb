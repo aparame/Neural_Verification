{
 "cells": [
  {
   "cell_type": "code",
   "execution_count": 2,
   "id": "faf1adf2-759b-4011-b196-204a226a932c",
   "metadata": {},
   "outputs": [
    {
     "name": "stderr",
     "output_type": "stream",
     "text": [
      "2023-08-13 14:09:28.111972: I tensorflow/tsl/cuda/cudart_stub.cc:28] Could not find cuda drivers on your machine, GPU will not be used.\n",
      "2023-08-13 14:09:28.156330: I tensorflow/tsl/cuda/cudart_stub.cc:28] Could not find cuda drivers on your machine, GPU will not be used.\n",
      "2023-08-13 14:09:28.157805: I tensorflow/core/platform/cpu_feature_guard.cc:182] This TensorFlow binary is optimized to use available CPU instructions in performance-critical operations.\n",
      "To enable the following instructions: AVX2 FMA, in other operations, rebuild TensorFlow with the appropriate compiler flags.\n",
      "2023-08-13 14:09:29.243939: W tensorflow/compiler/tf2tensorrt/utils/py_utils.cc:38] TF-TRT Warning: Could not find TensorRT\n"
     ]
    },
    {
     "name": "stdout",
     "output_type": "stream",
     "text": [
      "[]\n"
     ]
    },
    {
     "name": "stderr",
     "output_type": "stream",
     "text": [
      "2023-08-13 14:09:31.453010: W tensorflow/core/common_runtime/gpu/gpu_device.cc:1960] Cannot dlopen some GPU libraries. Please make sure the missing libraries mentioned above are installed properly if you would like to use GPU. Follow the guide at https://www.tensorflow.org/install/gpu for how to download and setup the required libraries for your platform.\n",
      "Skipping registering GPU devices...\n"
     ]
    }
   ],
   "source": [
    "import numpy as np\n",
    "import tensorflow as tf\n",
    "from tensorflow import keras\n",
    "from tensorflow.keras import layers\n",
    "print(tf.config.list_physical_devices('GPU'))"
   ]
  },
  {
   "cell_type": "code",
   "execution_count": 3,
   "id": "fd2322c3-16f8-4e86-a4c3-670dbd8d6e24",
   "metadata": {},
   "outputs": [],
   "source": [
    "(x_train, y_train), (x_test, y_test) = keras.datasets.mnist.load_data()\n",
    "x_train = np.expand_dims(x_train, -1).astype(\"float32\") / 255\n",
    "x_test = np.expand_dims(x_test, -1).astype(\"float32\") / 255\n",
    "num_classes = 10"
   ]
  },
  {
   "cell_type": "code",
   "execution_count": 13,
   "id": "655f6ec2-8f98-4cc8-a163-539dd2851eea",
   "metadata": {},
   "outputs": [
    {
     "name": "stdout",
     "output_type": "stream",
     "text": [
      "Model: \"CNN_MNIST\"\n",
      "_________________________________________________________________\n",
      " Layer (type)                Output Shape              Param #   \n",
      "=================================================================\n",
      " input_6 (InputLayer)        [(None, 28, 28, 1)]       0         \n",
      "                                                                 \n",
      " conv2d_20 (Conv2D)          (None, 14, 14, 32)        832       \n",
      "                                                                 \n",
      " conv2d_21 (Conv2D)          (None, 14, 14, 32)        25632     \n",
      "                                                                 \n",
      " max_pooling2d_10 (MaxPooli  (None, 7, 7, 32)          0         \n",
      " ng2D)                                                           \n",
      "                                                                 \n",
      " dropout_15 (Dropout)        (None, 7, 7, 32)          0         \n",
      "                                                                 \n",
      " conv2d_22 (Conv2D)          (None, 4, 4, 64)          18496     \n",
      "                                                                 \n",
      " conv2d_23 (Conv2D)          (None, 4, 4, 64)          36928     \n",
      "                                                                 \n",
      " max_pooling2d_11 (MaxPooli  (None, 2, 2, 64)          0         \n",
      " ng2D)                                                           \n",
      "                                                                 \n",
      " dropout_16 (Dropout)        (None, 2, 2, 64)          0         \n",
      "                                                                 \n",
      " flatten_5 (Flatten)         (None, 256)               0         \n",
      "                                                                 \n",
      " dense_10 (Dense)            (None, 128)               32896     \n",
      "                                                                 \n",
      " dropout_17 (Dropout)        (None, 128)               0         \n",
      "                                                                 \n",
      " dense_11 (Dense)            (None, 10)                1290      \n",
      "                                                                 \n",
      "=================================================================\n",
      "Total params: 116074 (453.41 KB)\n",
      "Trainable params: 116074 (453.41 KB)\n",
      "Non-trainable params: 0 (0.00 Byte)\n",
      "_________________________________________________________________\n"
     ]
    }
   ],
   "source": [
    "inputs = keras.Input(shape =(28,28,1))\n",
    "x = layers.Conv2D(32,5,strides = (2,2),activation=\"relu\", padding=\"same\")(inputs)\n",
    "x = layers.Conv2D(32,5,activation=\"relu\", padding=\"same\")(x)\n",
    "x = layers.MaxPooling2D()(x)\n",
    "x = layers.Dropout(0.25)(x)\n",
    "x = layers.Conv2D(64,3,strides = (2,2), activation = \"relu\", padding = \"same\")(x)\n",
    "x = layers.Conv2D(64,3, activation = \"relu\", padding = \"same\")(x)\n",
    "x = layers.MaxPooling2D((2,2))(x)\n",
    "x = layers.Dropout(0.25)(x)\n",
    "x = layers.Flatten()(x)\n",
    "x = layers.Dense(128, activation=\"relu\")(x)\n",
    "x = layers.Dropout(0.5)(x)\n",
    "outputs = layers.Dense(num_classes, activation = \"softmax\")(x)\n",
    "\n",
    "\n",
    "model = keras.Model(inputs,outputs, name = \"CNN_MNIST\")\n",
    "model.summary()"
   ]
  },
  {
   "cell_type": "code",
   "execution_count": 14,
   "id": "ac8a4774-0713-46db-8403-b6952875eade",
   "metadata": {},
   "outputs": [],
   "source": [
    "model.compile(optimizer = keras.optimizers.Adam(0.001),\n",
    "              loss = keras.losses.SparseCategoricalCrossentropy(from_logits = True),\n",
    "              metrics = [keras.metrics.SparseCategoricalAccuracy()]\n",
    "             )"
   ]
  },
  {
   "cell_type": "code",
   "execution_count": 15,
   "id": "00b18526-adc5-4e8e-8391-d46bc66c61bc",
   "metadata": {},
   "outputs": [
    {
     "name": "stdout",
     "output_type": "stream",
     "text": [
      "Epoch 1/5\n",
      "1875/1875 [==============================] - 15s 7ms/step - loss: 0.2840 - sparse_categorical_accuracy: 0.9116 - val_loss: 0.0526 - val_sparse_categorical_accuracy: 0.9832\n",
      "Epoch 2/5\n",
      "1875/1875 [==============================] - 14s 7ms/step - loss: 0.0961 - sparse_categorical_accuracy: 0.9732 - val_loss: 0.0430 - val_sparse_categorical_accuracy: 0.9885\n",
      "Epoch 3/5\n",
      "1875/1875 [==============================] - 14s 7ms/step - loss: 0.0760 - sparse_categorical_accuracy: 0.9791 - val_loss: 0.0323 - val_sparse_categorical_accuracy: 0.9897\n",
      "Epoch 4/5\n",
      "1875/1875 [==============================] - 14s 7ms/step - loss: 0.0605 - sparse_categorical_accuracy: 0.9833 - val_loss: 0.0351 - val_sparse_categorical_accuracy: 0.9893\n",
      "Epoch 5/5\n",
      "1875/1875 [==============================] - 14s 7ms/step - loss: 0.0539 - sparse_categorical_accuracy: 0.9852 - val_loss: 0.0289 - val_sparse_categorical_accuracy: 0.9922\n"
     ]
    },
    {
     "data": {
      "text/plain": [
       "<keras.src.callbacks.History at 0x14bc4d27cc70>"
      ]
     },
     "execution_count": 15,
     "metadata": {},
     "output_type": "execute_result"
    }
   ],
   "source": [
    "model.fit(x_train,y_train, epochs = 5, validation_data = [x_test, y_test])"
   ]
  },
  {
   "cell_type": "code",
   "execution_count": 16,
   "id": "fa176153-e318-4096-930c-8d6481694d97",
   "metadata": {},
   "outputs": [
    {
     "name": "stdout",
     "output_type": "stream",
     "text": [
      "313/313 [==============================] - 1s 2ms/step - loss: 0.0289 - sparse_categorical_accuracy: 0.9922\n"
     ]
    }
   ],
   "source": [
    "test_loss, test_acc = model.evaluate(x_test, y_test)"
   ]
  },
  {
   "cell_type": "code",
   "execution_count": 32,
   "id": "7a698346-1c2e-4c7e-891d-e1d96c40aeb4",
   "metadata": {},
   "outputs": [
    {
     "name": "stdout",
     "output_type": "stream",
     "text": [
      "2\n",
      "313/313 [==============================] - 1s 2ms/step\n"
     ]
    },
    {
     "data": {
      "image/png": "[encoded data removed]",
      "text/plain": [
       "<Figure size 640x480 with 1 Axes>"
      ]
     },
     "metadata": {},
     "output_type": "display_data"
    }
   ],
   "source": [
    "import matplotlib.pyplot as plt\n",
    "plt.imshow(x_test[1])\n",
    "print(y_test[1])\n",
    "prediction = model.predict(x_test)"
   ]
  },
  {
   "cell_type": "code",
   "execution_count": 35,
   "id": "8c0f4fd8-e847-4cf3-8fc0-3603783a1131",
   "metadata": {},
   "outputs": [
    {
     "name": "stdout",
     "output_type": "stream",
     "text": [
      "4\n"
     ]
    },
    {
     "data": {
      "image/png": "[encoded data removed]",
      "text/plain": [
       "<Figure size 640x480 with 1 Axes>"
      ]
     },
     "metadata": {},
     "output_type": "display_data"
    }
   ],
   "source": [
    "index = 250\n",
    "plt.imshow(x_test[index])\n",
    "print(y_test[np.argmax(prediction[index])])"
   ]
  },
  {
   "cell_type": "code",
   "execution_count": 37,
   "id": "8c8632ee-01bf-47cd-89e6-a91c612171dd",
   "metadata": {},
   "outputs": [
    {
     "name": "stdout",
     "output_type": "stream",
     "text": [
      "INFO:tensorflow:Assets written to: ./models/MNIST_model/assets\n"
     ]
    },
    {
     "name": "stderr",
     "output_type": "stream",
     "text": [
      "INFO:tensorflow:Assets written to: ./models/MNIST_model/assets\n",
      "2023-08-13 15:48:51.248140: I tensorflow/core/grappler/devices.cc:66] Number of eligible GPUs (core count >= 8, compute capability >= 0.0): 1\n",
      "2023-08-13 15:48:51.248773: I tensorflow/core/grappler/clusters/single_machine.cc:357] Starting new session\n",
      "2023-08-13 15:48:51.250342: W tensorflow/core/common_runtime/gpu/gpu_device.cc:1960] Cannot dlopen some GPU libraries. Please make sure the missing libraries mentioned above are installed properly if you would like to use GPU. Follow the guide at https://www.tensorflow.org/install/gpu for how to download and setup the required libraries for your platform.\n",
      "Skipping registering GPU devices...\n"
     ]
    },
    {
     "data": {
      "text/plain": [
       "'./MNIST.pb'"
      ]
     },
     "execution_count": 37,
     "metadata": {},
     "output_type": "execute_result"
    }
   ],
   "source": [
    "#%% Save model to SavedModel format\n",
    "tf.saved_model.save(model, \"./models/MNIST_model\")\n",
    "\n",
    " # load the saved_model using low-level API\n",
    "model_path = \"models/MNIST_model\"\n",
    "m = tf.saved_model.load(model_path)\n",
    "\n",
    "from tensorflow.python.framework.convert_to_constants import convert_variables_to_constants_v2\n",
    "\n",
    "tfm = tf.function(lambda x: m(x))  # full model                                                  \n",
    "tfm = tfm.get_concrete_function(tf.TensorSpec(m.signatures['serving_default'].inputs[0].shape.as_list(), m.signatures['serving_default'].inputs[0].dtype.name))   \n",
    "frozen_func = convert_variables_to_constants_v2(tfm)                                                                                                                              \n",
    "tf.io.write_graph(graph_or_graph_def=frozen_func.graph, logdir=\"./\", name=\"MNIST.pb\", as_text=False)"
   ]
  },
  {
   "cell_type": "code",
   "execution_count": null,
   "id": "68a5a7ed-c1d8-4d90-a2bd-f9a2f1aa8ad5",
   "metadata": {},
   "outputs": [],
   "source": []
  }
 ],
 "metadata": {
  "kernelspec": {
   "display_name": "Python 3 (ipykernel)",
   "language": "python",
   "name": "python3"
  },
  "language_info": {
   "codemirror_mode": {
    "name": "ipython",
    "version": 3
   },
   "file_extension": ".py",
   "mimetype": "text/x-python",
   "name": "python",
   "nbconvert_exporter": "python",
   "pygments_lexer": "ipython3",
   "version": "3.9.13"
  }
 },
 "nbformat": 4,
 "nbformat_minor": 5
}
